{
 "cells": [
  {
   "cell_type": "markdown",
   "id": "89d49424-3270-4c48-8eab-b3e1a281be88",
   "metadata": {},
   "source": [
    "# what is abstraction in oops? explain"
   ]
  },
  {
   "cell_type": "code",
   "execution_count": null,
   "id": "46bbc6d3-665f-496f-90ec-034dbd09e850",
   "metadata": {},
   "outputs": [],
   "source": [
    "ans -  Abstraction is used to hide the internal functionality of the function from the users. The users only interact with the basic implementation of the function, but inner working is hidden.\n",
    "User is familiar with that what function does but they don't know how it does."
   ]
  },
  {
   "cell_type": "code",
   "execution_count": 7,
   "id": "6c6f1661-10d1-40ff-a387-4a084891f49b",
   "metadata": {},
   "outputs": [
    {
     "name": "stdout",
     "output_type": "stream",
     "text": [
      "True\n",
      "True\n"
     ]
    }
   ],
   "source": [
    "import abc\n",
    " \n",
    "class parent:      \n",
    "    def geeks(self):\n",
    "        pass\n",
    " \n",
    "class child(parent):\n",
    "    def geeks(self):\n",
    "        print(\"child class\")\n",
    "print( issubclass(child, parent))\n",
    "print( isinstance(child(), parent))"
   ]
  },
  {
   "cell_type": "markdown",
   "id": "597332ca-1651-4d22-ad3e-9244f4858f80",
   "metadata": {},
   "source": [
    "# difference b/w abstraction and encapsulation."
   ]
  },
  {
   "cell_type": "code",
   "execution_count": null,
   "id": "7eef461c-279b-4961-bfd2-0cb21bcf073d",
   "metadata": {},
   "outputs": [],
   "source": [
    "# abstraction \n",
    "1.it hides the unnecessary details but shows the essential information.\n",
    "2.it solves issue at design level.\n",
    "3.it focuses on the external lookout.\n",
    "4.process of gaining information.\n",
    "5.we use abstract classes and interfaces to hide the code complexities."
   ]
  },
  {
   "cell_type": "code",
   "execution_count": null,
   "id": "3e016f8d-8caf-4e8a-9a8d-06777219d0f5",
   "metadata": {},
   "outputs": [],
   "source": [
    "import abc\n",
    " \n",
    "class parent:      \n",
    "    def geeks(self):\n",
    "        pass\n",
    " \n",
    "class child(parent):\n",
    "    def geeks(self):\n",
    "        print(\"child class\")\n",
    "print( issubclass(child, parent))\n",
    "print( isinstance(child(), parent))"
   ]
  },
  {
   "cell_type": "code",
   "execution_count": null,
   "id": "e138f0d7-ea9f-42ca-a61c-d15edd67edeb",
   "metadata": {},
   "outputs": [],
   "source": [
    "# encapsulation\n",
    "1.it hides the code and data into a single entity.\n",
    "2. it solves issues at implementation level\n",
    "3.it focuses on the internal working.\n",
    "4.process of containing the information.\n",
    "5.we use the getters and setters methods to hide the data."
   ]
  },
  {
   "cell_type": "code",
   "execution_count": null,
   "id": "657a884a-0393-49da-83fb-93ee1309a120",
   "metadata": {},
   "outputs": [],
   "source": [
    "class Car:\n",
    "\n",
    "    def __init__(self):\n",
    "        self.__updateSoftware()\n",
    "\n",
    "    def drive(self):\n",
    "        print('driving')\n",
    "\n",
    "    def __updateSoftware(self):\n",
    "        print('updating software')\n",
    "\n",
    "redcar = Car()\n",
    "redcar.drive()"
   ]
  },
  {
   "cell_type": "markdown",
   "id": "44b1d573-e93c-437e-9612-101af70f6d8d",
   "metadata": {},
   "source": [
    "# how can be achieve data abstraction."
   ]
  },
  {
   "cell_type": "code",
   "execution_count": null,
   "id": "e1579c58-212f-4c0d-9247-0047d33f595c",
   "metadata": {},
   "outputs": [],
   "source": [
    "Data Abstraction can be achieved through creating abstract classes and inheriting them later.\n",
    "before discussing what abstract classes are, let us have a brief introduction of inheritance.\n",
    "Inheritance in OOP is a way through which one class inherits the attributes and methods of another class. "
   ]
  },
  {
   "cell_type": "markdown",
   "id": "101cfdb3-4659-47bf-b3d7-d14161ba7c3a",
   "metadata": {},
   "source": [
    "# can we create an instance of an abstract class."
   ]
  },
  {
   "cell_type": "code",
   "execution_count": null,
   "id": "feabd71b-268a-49f8-bbd4-667bbb0c05e9",
   "metadata": {},
   "outputs": [],
   "source": [
    "We can create an abstract class by inheriting from the ABC class which is part of the abc module."
   ]
  },
  {
   "cell_type": "code",
   "execution_count": 15,
   "id": "30e49971-7531-452b-9571-7b46e9b3786c",
   "metadata": {},
   "outputs": [],
   "source": [
    "\n",
    "from abc import ABC, abstractmethod\n",
    "class Animal(ABC):\n",
    " \n",
    "    def move(self):\n",
    "        pass\n",
    " \n",
    "class Human(Animal):\n",
    " \n",
    "    def move(self):\n",
    "        print(\"I can walk and run\")\n",
    " \n",
    "class Snake(Animal):\n",
    " \n",
    "    def move(self):\n",
    "        print(\"I can crawl\")\n",
    " \n",
    "class Dog(Animal):\n",
    " \n",
    "    def move(self):\n",
    "        print(\"I can bark\")\n",
    " \n",
    "class Lion(Animal):\n",
    " \n",
    "    def move(self):\n",
    "        print(\"I can roar\")"
   ]
  },
  {
   "cell_type": "markdown",
   "id": "baf7ef90-9de2-40e0-8177-e0fcae2430d9",
   "metadata": {},
   "source": [
    "#why what is abc module in python?  is it used"
   ]
  },
  {
   "cell_type": "code",
   "execution_count": null,
   "id": "9e7ffc3f-075f-451b-b861-51d217b740cb",
   "metadata": {},
   "outputs": [],
   "source": [
    "The ABC module in Python is a collection of abstract base classes that are used to define the common interface for a set of related objects."
   ]
  },
  {
   "cell_type": "code",
   "execution_count": null,
   "id": "5e27c2c7-fac8-4282-ae24-e5e2877098e2",
   "metadata": {},
   "outputs": [],
   "source": [
    "The purpose of an ABC is to provide a way to share functionality between related objects without the need to subclass from a common base class. \n",
    "In other words, an ABC allows you to define a template for a group of objects that can be used to enforce a common interface."
   ]
  },
  {
   "cell_type": "code",
   "execution_count": 18,
   "id": "b82197e5-f220-4162-807f-372fe26bb95c",
   "metadata": {},
   "outputs": [
    {
     "name": "stdout",
     "output_type": "stream",
     "text": [
      "25\n",
      "20\n"
     ]
    }
   ],
   "source": [
    "import abc\n",
    "\n",
    "class Shape(abc.ABC):\n",
    "\n",
    "    @abc.abstractmethod\n",
    "    def get_area(self):\n",
    "        pass\n",
    "\n",
    "    @abc.abstractmethod\n",
    "    def get_perimeter(self):\n",
    "        pass\n",
    "class Square(Shape):\n",
    "\n",
    "    def __init__(self, side):\n",
    "        self.side = side\n",
    "\n",
    "    def get_area(self):\n",
    "        return self.side * self.side\n",
    "\n",
    "    def get_perimeter(self):\n",
    "        return self.side * 4\n",
    "s = Square(5)\n",
    "\n",
    "print(s.get_area())\n",
    "\n",
    "\n",
    "print(s.get_perimeter())\n"
   ]
  },
  {
   "cell_type": "code",
   "execution_count": null,
   "id": "0898f02f-07a7-4d5c-a10b-01c785ba1048",
   "metadata": {},
   "outputs": [],
   "source": []
  }
 ],
 "metadata": {
  "kernelspec": {
   "display_name": "Python 3 (ipykernel)",
   "language": "python",
   "name": "python3"
  },
  "language_info": {
   "codemirror_mode": {
    "name": "ipython",
    "version": 3
   },
   "file_extension": ".py",
   "mimetype": "text/x-python",
   "name": "python",
   "nbconvert_exporter": "python",
   "pygments_lexer": "ipython3",
   "version": "3.10.8"
  }
 },
 "nbformat": 4,
 "nbformat_minor": 5
}
